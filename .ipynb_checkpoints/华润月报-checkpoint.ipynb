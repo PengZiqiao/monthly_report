{
 "cells": [
  {
   "cell_type": "code",
   "execution_count": 3,
   "metadata": {},
   "outputs": [
    {
     "ename": "SyntaxError",
     "evalue": "invalid syntax (<ipython-input-3-d7bd74d67681>, line 92)",
     "output_type": "error",
     "traceback": [
      "\u001b[1;36m  File \u001b[1;32m\"<ipython-input-3-d7bd74d67681>\"\u001b[1;36m, line \u001b[1;32m92\u001b[0m\n\u001b[1;33m    return f'截止本月底库存：{wan(stock):.0f}万㎡'+\\\u001b[0m\n\u001b[1;37m         ^\u001b[0m\n\u001b[1;31mSyntaxError\u001b[0m\u001b[1;31m:\u001b[0m invalid syntax\n"
     ]
    }
   ],
   "source": [
    "import pandas as pd\n",
    "\n",
    "from wsdata.consts import SPZZ, BUHANLIGAO\n",
    "from wsdata.models import WinsunDatabase\n",
    "from wsdata.utils import wan, Month\n",
    "\n",
    "ws = WinsunDatabase()\n",
    "m = Month()\n",
    "\n",
    "class ShiChang:\n",
    "    gxj = ws.gxj('trend', 'month', 12, usage=SPZZ, plate=BUHANLIGAO)\n",
    "    \n",
    "    \n",
    "    def __cumsum(self, by, group_by):\n",
    "        df = ws.query(f'month_{by}').filter(usage=SPZZ, plate=BUHANLIGAO).group(group_by, '面积').df()\n",
    "        df.面积 = df.面积.astype(float)\n",
    "        return df\n",
    "    \n",
    "    def _stock(self, by):\n",
    "        def cumsum(table): return self.__cumsum(table, by)\n",
    "        sale = cumsum('sale') \n",
    "        sold = cumsum('sold')\n",
    "        df = pd.merge(sale, sold, on=by)\n",
    "        df['面积'] = df.面积_x - df.面积_y\n",
    "        return df\n",
    "    \n",
    "    @property\n",
    "    def trend_table(self):\n",
    "        return self.gxj.df_adjusted\n",
    "\n",
    "    @property\n",
    "    def trend_argue(self):\n",
    "        argue = self.gxj.shuoli(0).full_text\n",
    "        \n",
    "        stock = self._stock('presaleid').面积.sum()\n",
    "        sold_speed = self.gxj.df_original.sold.mean()\n",
    "        sold_cycle = stock / sold_speed\n",
    "        \n",
    "        argue += f'截止{m.month}月底全市库存{wan(stock):.0f}万㎡，去化周期{round(sold_cycle,0)}个月（按12个月计算）。'\n",
    "        return argue\n",
    "    \n",
    "    @property\n",
    "    def trend_average(self):\n",
    "        df = self.gxj.df_original\n",
    "        sale = df.sale.mean()\n",
    "        sold = df.sold.mean()\n",
    "        print(f'近一年月均供应：{wan(sale):.0f}万㎡', \n",
    "              f'近一年月均成交：{wan(sold):.0f}万㎡')\n",
    "        \n",
    "    @property\n",
    "    def __stock_table_detail(self):\n",
    "        def sale(period):\n",
    "            df = ws.query('month_sold')\\\n",
    "                .filter(usage=SPZZ, plate=BUHANLIGAO, date_range=[m.before(period-1).date, m.date])\\\n",
    "                .group('面积段', '面积').df()\n",
    "            df.rename(columns={'面积': f'面积_{period}'}, inplace=True)\n",
    "            df.set_index('面积段', inplace=True)\n",
    "            return df\n",
    "\n",
    "        # 面积段标签\n",
    "        cut_label = ws.query('month_sold')._cut_label('acreage', [90,120,144,180]).set_index('面积段')\n",
    "\n",
    "        # 库存\n",
    "        stock = self._stock('面积段').set_index('面积段')\n",
    "\n",
    "        # 拼合 面积段、库存、3类去化量，按面积段分组\n",
    "        df = cut_label.join([stock, sale(3), sale(12), sale(36)])\n",
    "        \n",
    "        return df\n",
    "    \n",
    "    @property\n",
    "    def stock_table(self):\n",
    "        df = self.__stock_table_detail\n",
    "        df = df.pivot_table(index='acreage', aggfunc=sum)\n",
    "\n",
    "        # 计算去化速度\n",
    "        for i in [3,12,36]:\n",
    "            df[f'速度_{i}'] = df.面积 / df[f'面积_{i}']\n",
    "\n",
    "        # 调整\n",
    "        df.面积 = df.面积.apply(wan)\n",
    "        df = df[['面积','速度_3','速度_12','速度_36']].round(2)\n",
    "        df.index = [f'{x}㎡' for x in df.index]\n",
    "        \n",
    "        return df\n",
    "    \n",
    "    @property\n",
    "    def stock_argue(self):\n",
    "        df = self.__stock_table_detail\n",
    "        \n",
    "        stock = df.面积.sum()\n",
    "        cycle = [stock / [df[f'面积_{i}'].sum() for i in (3,12,36)]\n",
    "        \n",
    "        return f'截止本月底库存：{wan(stock):.0f}万㎡'\\\n",
    "               f'   去化周期—按近3个月计算：{cycle[0]:.1f}个月'\\\n",
    "               f'   按近12个月计算：{cycle[1]:.1f}个月'\\\n",
    "               f'   按近36个月计算：{cycle[2]:.1f}个月'\n",
    "    \n",
    "    \n",
    "    @property\n",
    "    def cross_table(self):\n",
    "        df = ws.query('month_sold')\\\n",
    "                .filter(usage=SPZZ, plate=BUHANLIGAO, \n",
    "                        date_range=[m.date, m.date])\\\n",
    "                .cross(values='件数', margins=True,\n",
    "                       idx_cols=['tprice', 'acreage'],\n",
    "                       idx_bins=[100,120,150,200,250,300,350,400,450,500], \n",
    "                       cols_bins=[90,120,144,180])\n",
    "        df = df.fillna(0).astype(int)\n",
    "        return df.style.background_gradient()\n",
    "    \n",
    "sc =  ShiChang()"
   ]
  },
  {
   "cell_type": "markdown",
   "metadata": {},
   "source": [
    "#### 走势"
   ]
  },
  {
   "cell_type": "code",
   "execution_count": 27,
   "metadata": {},
   "outputs": [
    {
     "name": "stderr",
     "output_type": "stream",
     "text": [
      "d:\\Anaconda3\\lib\\site-packages\\sqlalchemy\\dialects\\sqlite\\base.py:1297: SAWarning: Could not instantiate type <class 'sqlalchemy.sql.sqltypes.INTEGER'> with reflected arguments ['8']; using no arguments.\n",
      "  (coltype, args))\n"
     ]
    },
    {
     "data": {
      "text/html": [
       "<div>\n",
       "<style>\n",
       "    .dataframe thead tr:only-child th {\n",
       "        text-align: right;\n",
       "    }\n",
       "\n",
       "    .dataframe thead th {\n",
       "        text-align: left;\n",
       "    }\n",
       "\n",
       "    .dataframe tbody tr th {\n",
       "        vertical-align: top;\n",
       "    }\n",
       "</style>\n",
       "<table border=\"1\" class=\"dataframe\">\n",
       "  <thead>\n",
       "    <tr style=\"text-align: right;\">\n",
       "      <th></th>\n",
       "      <th>sale</th>\n",
       "      <th>sold</th>\n",
       "      <th>price</th>\n",
       "    </tr>\n",
       "  </thead>\n",
       "  <tbody>\n",
       "    <tr>\n",
       "      <th>201706</th>\n",
       "      <td>90.65</td>\n",
       "      <td>56.83</td>\n",
       "      <td>25472.0</td>\n",
       "    </tr>\n",
       "    <tr>\n",
       "      <th>201707</th>\n",
       "      <td>78.50</td>\n",
       "      <td>67.76</td>\n",
       "      <td>24709.0</td>\n",
       "    </tr>\n",
       "    <tr>\n",
       "      <th>201708</th>\n",
       "      <td>35.19</td>\n",
       "      <td>38.25</td>\n",
       "      <td>22895.0</td>\n",
       "    </tr>\n",
       "    <tr>\n",
       "      <th>201709</th>\n",
       "      <td>23.72</td>\n",
       "      <td>76.09</td>\n",
       "      <td>27603.0</td>\n",
       "    </tr>\n",
       "    <tr>\n",
       "      <th>201710</th>\n",
       "      <td>12.49</td>\n",
       "      <td>41.43</td>\n",
       "      <td>24024.0</td>\n",
       "    </tr>\n",
       "    <tr>\n",
       "      <th>201711</th>\n",
       "      <td>126.97</td>\n",
       "      <td>53.42</td>\n",
       "      <td>24717.0</td>\n",
       "    </tr>\n",
       "    <tr>\n",
       "      <th>201712</th>\n",
       "      <td>132.69</td>\n",
       "      <td>89.05</td>\n",
       "      <td>26590.0</td>\n",
       "    </tr>\n",
       "    <tr>\n",
       "      <th>201801</th>\n",
       "      <td>27.08</td>\n",
       "      <td>77.01</td>\n",
       "      <td>26728.0</td>\n",
       "    </tr>\n",
       "    <tr>\n",
       "      <th>201802</th>\n",
       "      <td>13.84</td>\n",
       "      <td>36.70</td>\n",
       "      <td>25196.0</td>\n",
       "    </tr>\n",
       "    <tr>\n",
       "      <th>201803</th>\n",
       "      <td>18.54</td>\n",
       "      <td>29.83</td>\n",
       "      <td>24765.0</td>\n",
       "    </tr>\n",
       "    <tr>\n",
       "      <th>201804</th>\n",
       "      <td>34.20</td>\n",
       "      <td>38.03</td>\n",
       "      <td>27839.0</td>\n",
       "    </tr>\n",
       "    <tr>\n",
       "      <th>201805</th>\n",
       "      <td>37.88</td>\n",
       "      <td>35.62</td>\n",
       "      <td>25861.0</td>\n",
       "    </tr>\n",
       "  </tbody>\n",
       "</table>\n",
       "</div>"
      ],
      "text/plain": [
       "          sale   sold    price\n",
       "201706   90.65  56.83  25472.0\n",
       "201707   78.50  67.76  24709.0\n",
       "201708   35.19  38.25  22895.0\n",
       "201709   23.72  76.09  27603.0\n",
       "201710   12.49  41.43  24024.0\n",
       "201711  126.97  53.42  24717.0\n",
       "201712  132.69  89.05  26590.0\n",
       "201801   27.08  77.01  26728.0\n",
       "201802   13.84  36.70  25196.0\n",
       "201803   18.54  29.83  24765.0\n",
       "201804   34.20  38.03  27839.0\n",
       "201805   37.88  35.62  25861.0"
      ]
     },
     "execution_count": 27,
     "metadata": {},
     "output_type": "execute_result"
    }
   ],
   "source": [
    "sc.trend_table"
   ]
  },
  {
   "cell_type": "code",
   "execution_count": 15,
   "metadata": {},
   "outputs": [
    {
     "name": "stderr",
     "output_type": "stream",
     "text": [
      "d:\\Anaconda3\\lib\\site-packages\\sqlalchemy\\dialects\\sqlite\\base.py:1297: SAWarning: Could not instantiate type <class 'sqlalchemy.sql.sqltypes.INTEGER'> with reflected arguments ['8']; using no arguments.\n",
      "  (coltype, args))\n"
     ]
    },
    {
     "name": "stdout",
     "output_type": "stream",
     "text": [
      "上市37.88万㎡，环比增长11%。成交35.62万㎡，环比下降6%。成交均价25861元/㎡，环比下降7%。截止5月底全市库存399万㎡，去化周期7.0个月（按12个月计算）。\n",
      "近一年月均供应：53万㎡ 近一年月均成交：53万㎡\n",
      "None\n"
     ]
    }
   ],
   "source": [
    "print(sc.trend_argue)\n",
    "print(sc.trend_average)"
   ]
  },
  {
   "cell_type": "markdown",
   "metadata": {},
   "source": [
    "#### 库存"
   ]
  },
  {
   "cell_type": "code",
   "execution_count": 23,
   "metadata": {},
   "outputs": [
    {
     "name": "stderr",
     "output_type": "stream",
     "text": [
      "d:\\Anaconda3\\lib\\site-packages\\sqlalchemy\\dialects\\sqlite\\base.py:1297: SAWarning: Could not instantiate type <class 'sqlalchemy.sql.sqltypes.INTEGER'> with reflected arguments ['8']; using no arguments.\n",
      "  (coltype, args))\n"
     ]
    },
    {
     "data": {
      "text/html": [
       "<div>\n",
       "<style>\n",
       "    .dataframe thead tr:only-child th {\n",
       "        text-align: right;\n",
       "    }\n",
       "\n",
       "    .dataframe thead th {\n",
       "        text-align: left;\n",
       "    }\n",
       "\n",
       "    .dataframe tbody tr th {\n",
       "        vertical-align: top;\n",
       "    }\n",
       "</style>\n",
       "<table border=\"1\" class=\"dataframe\">\n",
       "  <thead>\n",
       "    <tr style=\"text-align: right;\">\n",
       "      <th></th>\n",
       "      <th>面积</th>\n",
       "      <th>速度_3</th>\n",
       "      <th>速度_12</th>\n",
       "      <th>速度_36</th>\n",
       "    </tr>\n",
       "  </thead>\n",
       "  <tbody>\n",
       "    <tr>\n",
       "      <th>90-㎡</th>\n",
       "      <td>69.52</td>\n",
       "      <td>2.62</td>\n",
       "      <td>0.45</td>\n",
       "      <td>0.08</td>\n",
       "    </tr>\n",
       "    <tr>\n",
       "      <th>90-120㎡</th>\n",
       "      <td>94.50</td>\n",
       "      <td>3.55</td>\n",
       "      <td>0.52</td>\n",
       "      <td>0.10</td>\n",
       "    </tr>\n",
       "    <tr>\n",
       "      <th>120-144㎡</th>\n",
       "      <td>81.23</td>\n",
       "      <td>3.46</td>\n",
       "      <td>0.46</td>\n",
       "      <td>0.12</td>\n",
       "    </tr>\n",
       "    <tr>\n",
       "      <th>144-180㎡</th>\n",
       "      <td>33.49</td>\n",
       "      <td>4.90</td>\n",
       "      <td>0.69</td>\n",
       "      <td>0.18</td>\n",
       "    </tr>\n",
       "    <tr>\n",
       "      <th>180+㎡</th>\n",
       "      <td>120.48</td>\n",
       "      <td>6.00</td>\n",
       "      <td>1.53</td>\n",
       "      <td>0.27</td>\n",
       "    </tr>\n",
       "  </tbody>\n",
       "</table>\n",
       "</div>"
      ],
      "text/plain": [
       "              面积  速度_3  速度_12  速度_36\n",
       "90-㎡       69.52  2.62   0.45   0.08\n",
       "90-120㎡    94.50  3.55   0.52   0.10\n",
       "120-144㎡   81.23  3.46   0.46   0.12\n",
       "144-180㎡   33.49  4.90   0.69   0.18\n",
       "180+㎡     120.48  6.00   1.53   0.27"
      ]
     },
     "execution_count": 23,
     "metadata": {},
     "output_type": "execute_result"
    }
   ],
   "source": [
    "sc.stock_table"
   ]
  },
  {
   "cell_type": "code",
   "execution_count": 28,
   "metadata": {},
   "outputs": [
    {
     "name": "stderr",
     "output_type": "stream",
     "text": [
      "d:\\Anaconda3\\lib\\site-packages\\sqlalchemy\\dialects\\sqlite\\base.py:1297: SAWarning: Could not instantiate type <class 'sqlalchemy.sql.sqltypes.INTEGER'> with reflected arguments ['8']; using no arguments.\n",
      "  (coltype, args))\n"
     ]
    },
    {
     "data": {
      "text/plain": [
       "'截止本月底库存：399万㎡   去化周期—按近3个月计算：0.3个月   按近12个月计算：1.6个月   按近36个月计算：8.0个月'"
      ]
     },
     "execution_count": 28,
     "metadata": {},
     "output_type": "execute_result"
    }
   ],
   "source": [
    "sc.stock_argue"
   ]
  }
 ],
 "metadata": {
  "kernelspec": {
   "display_name": "Python 3",
   "language": "python",
   "name": "python3"
  },
  "language_info": {
   "codemirror_mode": {
    "name": "ipython",
    "version": 3
   },
   "file_extension": ".py",
   "mimetype": "text/x-python",
   "name": "python",
   "nbconvert_exporter": "python",
   "pygments_lexer": "ipython3",
   "version": "3.6.3"
  }
 },
 "nbformat": 4,
 "nbformat_minor": 2
}
